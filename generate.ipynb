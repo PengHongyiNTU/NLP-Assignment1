{
 "cells": [
  {
   "cell_type": "code",
   "execution_count": 63,
   "metadata": {},
   "outputs": [],
   "source": [
    "import data\n",
    "import torch\n",
    "def generate_word(len_seq=10, data_dir='./data/wikitext-2', out_dir='generated_words.txt', checkpoints='model.pt', temperature=1, num_words=1000):\n",
    "    device = torch.device(\"cuda\" if torch.cuda.is_available() else 'cpu')\n",
    "    model = torch.load(checkpoints, map_location=device)\n",
    "    model.eval()\n",
    "    corpus = data.Corpus(data_dir)\n",
    "    n_tokens = len(corpus.dictionary)\n",
    "    input = torch.randint(n_tokens, (1, len_seq), dtype=torch.long).to(device)\n",
    "    with open(out_dir, 'w') as file:\n",
    "        with torch.no_grad():\n",
    "            for i in range(num_words):\n",
    "                output = model(input)\n",
    "                word_weights = output.squeeze().div(temperature).exp().cpu()\n",
    "                word_idx = torch.multinomial(word_weights, 1)[0]\n",
    "                # FIFO queue\n",
    "                next_word = torch.tensor([word_idx]).view(1, -1).to(device)\n",
    "                input = torch.cat((input[:, 1:], next_word), dim=1)\n",
    "                word = corpus.dictionary.idx2word[word_idx]\n",
    "                file.write(word + ('\\n' if i % 20 == 19 else ' '))\n",
    "                if i % 100 == 0:\n",
    "                    print('| Generated {}/{} words'.format(i, num_words))\n",
    "\n"
   ]
  },
  {
   "cell_type": "code",
   "execution_count": 64,
   "metadata": {},
   "outputs": [
    {
     "name": "stdout",
     "output_type": "stream",
     "text": [
      "| Generated 0/1000 words\n",
      "| Generated 100/1000 words\n",
      "| Generated 200/1000 words\n",
      "| Generated 300/1000 words\n",
      "| Generated 400/1000 words\n",
      "| Generated 500/1000 words\n",
      "| Generated 600/1000 words\n",
      "| Generated 700/1000 words\n",
      "| Generated 800/1000 words\n",
      "| Generated 900/1000 words\n"
     ]
    }
   ],
   "source": [
    "from TrainFNN import FNNModel\n",
    "generate_word(len_seq=10, out_dir=\"generated_words_fnn.txt\", \n",
    "checkpoints='model.pt', num_words=1000)"
   ]
  },
  {
   "cell_type": "code",
   "execution_count": 65,
   "metadata": {},
   "outputs": [
    {
     "name": "stdout",
     "output_type": "stream",
     "text": [
      "| Generated 0/1000 words\n",
      "| Generated 100/1000 words\n",
      "| Generated 200/1000 words\n",
      "| Generated 300/1000 words\n",
      "| Generated 400/1000 words\n",
      "| Generated 500/1000 words\n",
      "| Generated 600/1000 words\n",
      "| Generated 700/1000 words\n",
      "| Generated 800/1000 words\n",
      "| Generated 900/1000 words\n"
     ]
    }
   ],
   "source": [
    "from TrainWithDropOut import FNNModelDropout\n",
    "generate_word(len_seq=7, out_dir='generated_words_fnn_dropout.txt',\n",
    "checkpoints='model_dropout.pt', num_words=1000)"
   ]
  },
  {
   "cell_type": "code",
   "execution_count": 67,
   "metadata": {},
   "outputs": [
    {
     "name": "stdout",
     "output_type": "stream",
     "text": [
      "| Generated 0/1000 words\n",
      "| Generated 100/1000 words\n",
      "| Generated 200/1000 words\n",
      "| Generated 300/1000 words\n",
      "| Generated 400/1000 words\n",
      "| Generated 500/1000 words\n",
      "| Generated 600/1000 words\n",
      "| Generated 700/1000 words\n",
      "| Generated 800/1000 words\n",
      "| Generated 900/1000 words\n"
     ]
    }
   ],
   "source": [
    "from TrainWithSharingWeights import FNNModelSharingWeights\n",
    "generate_word(len_seq=7, out_dir='generated_words_fnn_sharingweights.txt',\n",
    "checkpoints='model_dropout_SharingWeights.pt', num_words=1000)"
   ]
  }
 ],
 "metadata": {
  "interpreter": {
   "hash": "3aeeecc898ad790c3595bc2ebae48d6a2546ab5e65cf8bb476118c27fd8febf3"
  },
  "kernelspec": {
   "display_name": "Python 3.9.7 ('phy-env')",
   "language": "python",
   "name": "python3"
  },
  "language_info": {
   "codemirror_mode": {
    "name": "ipython",
    "version": 3
   },
   "file_extension": ".py",
   "mimetype": "text/x-python",
   "name": "python",
   "nbconvert_exporter": "python",
   "pygments_lexer": "ipython3",
   "version": "3.9.7"
  },
  "orig_nbformat": 4
 },
 "nbformat": 4,
 "nbformat_minor": 2
}

{
 "cells": [
  {
   "cell_type": "code",
   "execution_count": 2,
   "metadata": {},
   "outputs": [],
   "source": [
    "import data\n",
    "similarity_standard_dir = './wordsim353_sim_rel/wordsim_similarity_goldstandard.txt'\n",
    "data_dir='./data/wikitext-2'\n",
    "corpus = data.Corpus(data_dir)"
   ]
  },
  {
   "cell_type": "code",
   "execution_count": 14,
   "metadata": {},
   "outputs": [],
   "source": [
    "with open(similarity_standard_dir, 'r') as file:\n",
    "    words1 = []\n",
    "    words1_idx = []\n",
    "    words2 = []\n",
    "    words2_idx = []\n",
    "    scores = []\n",
    "    for line in file:\n",
    "        line = line.rstrip('\\n')\n",
    "        seq = line.split('\\t')\n",
    "        word1, word2, score = seq[0], seq[1], seq[2]\n",
    "        score = float(score)\n",
    "        if word1 in list(corpus.dictionary.word2idx.keys()) and word2 in list(corpus.dictionary.word2idx.keys()):\n",
    "            words1.append(word1)\n",
    "            words2.append(word2)\n",
    "            words1_idx.append(corpus.dictionary.word2idx[word1])\n",
    "            words2_idx.append(corpus.dictionary.word2idx[word2])\n",
    "            scores.append(score)"
   ]
  },
  {
   "cell_type": "code",
   "execution_count": 17,
   "metadata": {},
   "outputs": [
    {
     "data": {
      "text/html": [
       "<div>\n",
       "<style scoped>\n",
       "    .dataframe tbody tr th:only-of-type {\n",
       "        vertical-align: middle;\n",
       "    }\n",
       "\n",
       "    .dataframe tbody tr th {\n",
       "        vertical-align: top;\n",
       "    }\n",
       "\n",
       "    .dataframe thead th {\n",
       "        text-align: right;\n",
       "    }\n",
       "</style>\n",
       "<table border=\"1\" class=\"dataframe\">\n",
       "  <thead>\n",
       "    <tr style=\"text-align: right;\">\n",
       "      <th></th>\n",
       "      <th>word1</th>\n",
       "      <th>word2</th>\n",
       "      <th>score</th>\n",
       "    </tr>\n",
       "  </thead>\n",
       "  <tbody>\n",
       "    <tr>\n",
       "      <th>0</th>\n",
       "      <td>tiger</td>\n",
       "      <td>cat</td>\n",
       "      <td>7.35</td>\n",
       "    </tr>\n",
       "    <tr>\n",
       "      <th>1</th>\n",
       "      <td>tiger</td>\n",
       "      <td>tiger</td>\n",
       "      <td>10.00</td>\n",
       "    </tr>\n",
       "    <tr>\n",
       "      <th>2</th>\n",
       "      <td>plane</td>\n",
       "      <td>car</td>\n",
       "      <td>5.77</td>\n",
       "    </tr>\n",
       "    <tr>\n",
       "      <th>3</th>\n",
       "      <td>train</td>\n",
       "      <td>car</td>\n",
       "      <td>6.31</td>\n",
       "    </tr>\n",
       "    <tr>\n",
       "      <th>4</th>\n",
       "      <td>television</td>\n",
       "      <td>radio</td>\n",
       "      <td>6.77</td>\n",
       "    </tr>\n",
       "    <tr>\n",
       "      <th>5</th>\n",
       "      <td>media</td>\n",
       "      <td>radio</td>\n",
       "      <td>7.42</td>\n",
       "    </tr>\n",
       "    <tr>\n",
       "      <th>6</th>\n",
       "      <td>bread</td>\n",
       "      <td>butter</td>\n",
       "      <td>6.19</td>\n",
       "    </tr>\n",
       "    <tr>\n",
       "      <th>7</th>\n",
       "      <td>doctor</td>\n",
       "      <td>nurse</td>\n",
       "      <td>7.00</td>\n",
       "    </tr>\n",
       "    <tr>\n",
       "      <th>8</th>\n",
       "      <td>professor</td>\n",
       "      <td>doctor</td>\n",
       "      <td>6.62</td>\n",
       "    </tr>\n",
       "    <tr>\n",
       "      <th>9</th>\n",
       "      <td>student</td>\n",
       "      <td>professor</td>\n",
       "      <td>6.81</td>\n",
       "    </tr>\n",
       "  </tbody>\n",
       "</table>\n",
       "</div>"
      ],
      "text/plain": [
       "        word1      word2  score\n",
       "0       tiger        cat   7.35\n",
       "1       tiger      tiger  10.00\n",
       "2       plane        car   5.77\n",
       "3       train        car   6.31\n",
       "4  television      radio   6.77\n",
       "5       media      radio   7.42\n",
       "6       bread     butter   6.19\n",
       "7      doctor      nurse   7.00\n",
       "8   professor     doctor   6.62\n",
       "9     student  professor   6.81"
      ]
     },
     "execution_count": 17,
     "metadata": {},
     "output_type": "execute_result"
    }
   ],
   "source": [
    "import pandas as pd\n",
    "df = pd.DataFrame({'word1': words1, 'word2': words2, 'score': scores})\n",
    "df.head(10)"
   ]
  },
  {
   "cell_type": "code",
   "execution_count": 25,
   "metadata": {},
   "outputs": [],
   "source": [
    "import torch\n",
    "from TrainFNN import FNNModel\n",
    "device = torch.device(\"cuda\" if torch.cuda.is_available() else 'cpu')\n",
    "model = torch.load('model.pt', map_location=device)\n",
    "model.eval()\n",
    "idx1 = torch.tensor(words1_idx).to(device)\n",
    "idx2 = torch.tensor(words2_idx).to(device)"
   ]
  },
  {
   "cell_type": "code",
   "execution_count": 30,
   "metadata": {},
   "outputs": [],
   "source": [
    "with torch.no_grad():\n",
    "    emb1 = model.encoder(idx1).detach().cpu()\n",
    "    emb2 = model.encoder(idx2).detach().cpu()\n",
    "cos_score = torch.nn.functional.cosine_similarity(emb1, emb2)"
   ]
  },
  {
   "cell_type": "code",
   "execution_count": 31,
   "metadata": {},
   "outputs": [
    {
     "data": {
      "text/plain": [
       "SpearmanrResult(correlation=0.06408710638960426, pvalue=0.3913830419460702)"
      ]
     },
     "execution_count": 31,
     "metadata": {},
     "output_type": "execute_result"
    }
   ],
   "source": [
    "from scipy.stats import spearmanr\n",
    "spearmanr(scores, cos_score)"
   ]
  },
  {
   "cell_type": "code",
   "execution_count": 33,
   "metadata": {},
   "outputs": [
    {
     "data": {
      "text/plain": [
       "SpearmanrResult(correlation=0.09964203233707374, pvalue=0.18201294598775636)"
      ]
     },
     "execution_count": 33,
     "metadata": {},
     "output_type": "execute_result"
    }
   ],
   "source": [
    "from TrainWithDropOut import FNNModelDropout\n",
    "device = torch.device(\"cuda\" if torch.cuda.is_available() else 'cpu')\n",
    "model = torch.load('model_dropout.pt', map_location=device)\n",
    "model.eval()\n",
    "with torch.no_grad():\n",
    "    emb1 = model.encoder(idx1).detach().cpu()\n",
    "    emb2 = model.encoder(idx2).detach().cpu()\n",
    "cos_score = torch.nn.functional.cosine_similarity(emb1, emb2)\n",
    "spearmanr(scores, cos_score)"
   ]
  },
  {
   "cell_type": "code",
   "execution_count": 34,
   "metadata": {},
   "outputs": [
    {
     "data": {
      "text/plain": [
       "SpearmanrResult(correlation=0.30001694998741, pvalue=4.073378209394652e-05)"
      ]
     },
     "execution_count": 34,
     "metadata": {},
     "output_type": "execute_result"
    }
   ],
   "source": [
    "from TrainWithSharingWeights import FNNModelSharingWeights\n",
    "device = torch.device(\"cuda\" if torch.cuda.is_available() else 'cpu')\n",
    "model = torch.load('model_dropout_SharingWeights.pt', map_location=device)\n",
    "model.eval()\n",
    "with torch.no_grad():\n",
    "    emb1 = model.encoder(idx1).detach().cpu()\n",
    "    emb2 = model.encoder(idx2).detach().cpu()\n",
    "cos_score = torch.nn.functional.cosine_similarity(emb1, emb2)\n",
    "spearmanr(scores, cos_score)"
   ]
  }
 ],
 "metadata": {
  "interpreter": {
   "hash": "3aeeecc898ad790c3595bc2ebae48d6a2546ab5e65cf8bb476118c27fd8febf3"
  },
  "kernelspec": {
   "display_name": "Python 3.9.7 ('phy-env')",
   "language": "python",
   "name": "python3"
  },
  "language_info": {
   "codemirror_mode": {
    "name": "ipython",
    "version": 3
   },
   "file_extension": ".py",
   "mimetype": "text/x-python",
   "name": "python",
   "nbconvert_exporter": "python",
   "pygments_lexer": "ipython3",
   "version": "3.9.7"
  },
  "orig_nbformat": 4
 },
 "nbformat": 4,
 "nbformat_minor": 2
}
